{
  "nbformat": 4,
  "nbformat_minor": 0,
  "metadata": {
    "colab": {
      "provenance": []
    },
    "kernelspec": {
      "name": "python3",
      "display_name": "Python 3"
    },
    "language_info": {
      "name": "python"
    }
  },
  "cells": [
    {
      "cell_type": "code",
      "execution_count": null,
      "metadata": {
        "id": "zE4GcFN51oDU"
      },
      "outputs": [],
      "source": [
        "import pandas as pd\n",
        "import numpy as np"
      ]
    },
    {
      "cell_type": "markdown",
      "source": [
        "# **Pre-lecture HW**"
      ],
      "metadata": {
        "id": "xiMdKJHMjLqk"
      }
    },
    {
      "cell_type": "markdown",
      "source": [
        "## **3.**"
      ],
      "metadata": {
        "id": "DxvVIU5XkFDI"
      }
    },
    {
      "cell_type": "code",
      "source": [
        "all_door_options = [1, 2, 3]\n",
        "initial_choice = 1  # Always initially choose door 1\n",
        "wins = 0\n",
        "reps = 100000\n",
        "\n",
        "for _ in range(reps):\n",
        "    # Randomly assign the winning door\n",
        "    winning_door = np.random.choice(all_door_options)\n",
        "\n",
        "    # Host reveals a goat door (losing door) that isn't your choice or the winning door\n",
        "    remaining_doors = [door for door in all_door_options if door != initial_choice and door != winning_door]\n",
        "    revealed_goat = np.random.choice(remaining_doors)\n",
        "\n",
        "    # Switch to the remaining door using a basic loop\n",
        "    for door in all_door_options:\n",
        "        if door != initial_choice and door != revealed_goat:\n",
        "            switched_choice = door\n",
        "            break\n",
        "\n",
        "    # Check if the switch results in a win\n",
        "    if switched_choice == winning_door:\n",
        "        wins += 1\n",
        "\n",
        "# Calculate win probability with the switch strategy\n",
        "win_probability = wins / reps\n",
        "print(win_probability)"
      ],
      "metadata": {
        "colab": {
          "base_uri": "https://localhost:8080/"
        },
        "id": "95nuQAeSir_1",
        "outputId": "05020dff-9a0d-4d19-a5ab-77b703ed1d3c"
      },
      "execution_count": null,
      "outputs": [
        {
          "output_type": "stream",
          "name": "stdout",
          "text": [
            "0.66689\n"
          ]
        }
      ]
    },
    {
      "cell_type": "markdown",
      "source": [
        "Summary for q1-q3 (ChatGPT's POV):\n",
        "\n",
        "In our conversation, you provided a Python code simulating the Monty Hall problem, and I explained its working by dividing it into sections. You wanted a clearer and more streamlined version of the for loop, so I simplified the logic and provided a version that used list comprehensions and next() for concise door assignments.\n",
        "\n",
        "You found the combination of next() with list comprehensions too complex, so I then rewrote the code to use a basic for loop to assign the switched_choice, avoiding next() entirely. This simpler version maintains the same logic but is easier to understand and follow.\n",
        "\n",
        "Lastly, I combined the streamlined version with the simplified for loop into a final version of the code for better clarity.\n",
        "\n",
        "Link: https://chatgpt.com/share/66ec31d9-87c8-8012-9986-ffe1c0d48426"
      ],
      "metadata": {
        "id": "ZXUTaHn7oaxM"
      }
    },
    {
      "cell_type": "markdown",
      "source": [
        "# **Post-lecture HW**"
      ],
      "metadata": {
        "id": "5mxjkfmpZFCv"
      }
    },
    {
      "cell_type": "markdown",
      "source": [
        "## **5.**"
      ],
      "metadata": {
        "id": "G1QuUDxkZJdd"
      }
    },
    {
      "cell_type": "markdown",
      "source": [
        "Summary for q4-q5.2 (ChatGPT's POV):\n",
        "\n",
        "We discussed your Markovian chatbot code and its extensions, focusing on how the code works and potential improvements:\n",
        "\n",
        "Original Code:\n",
        "\n",
        "The basic chatbot uses a first-order Markov chain, tracking individual word transitions to predict the next word.\n",
        "The word_used dictionary tracks word frequencies, though it's not essential for basic chatbot functionality.\n",
        "\n",
        "Extension #1 (Second-Order Markov Chain):\n",
        "\n",
        "This extension uses bigrams (pairs of consecutive words) instead of single words, creating a second-order Markov chain.\n",
        "The chatbot now uses two-word sequences for better context in generating responses.\n",
        "\n",
        "Extension #2 (Character-Specific Markov Chains):\n",
        "\n",
        "This extension introduces character-specific Markov models by processing quotes from different characters in the avatar dataset.\n",
        "It organizes word sequences by character, allowing the chatbot to generate text that mimics the speaking style of each character.\n",
        "Challenges with Multi-Word Character Names:\n",
        "\n",
        "The code might not work well for multi-word character names (e.g., \"Toph Beifong\") since it checks individual words, leading to incomplete character identification.\n",
        "Solutions include combining multi-word names into single tokens, using sliding windows to match names, or preprocessing text to handle multi-word names consistently.\n",
        "This covers the core functionality and suggestions for improving the chatbot’s handling of characters with multi-word names.\n",
        "\n",
        "Link: https://chatgpt.com/share/66ece9ae-4048-8012-af6a-c74701e00bf4\n",
        "\n",
        "Link (q5.3): https://chatgpt.com/share/66ece9d1-d838-8012-95ea-800938deb88e"
      ],
      "metadata": {
        "id": "b_0m3uywaDzG"
      }
    },
    {
      "cell_type": "markdown",
      "source": [
        "## **6.**"
      ],
      "metadata": {
        "id": "k9XA6Mj2cafk"
      }
    },
    {
      "cell_type": "markdown",
      "source": [
        "1. The chatbot is very quick to be useful for each of the above question, as it can quickly answered it and explained it in detail as well (although for 4o mini model, it can be tricky as for a specific part of the explanation, the code snippets from analyzed code are rarely given).\n",
        "\n",
        "2. The interaction is not frustrating, since I tried to give prompts as detailed as possible, and the explanation is also mostly (if not fully) complete.\n",
        "\n",
        "3. 9.5/10, it's super useful for understanding where something went wrong, how to fix it, how it works, etc. The only thing is that sometimes it gives code with functions that, even though it's simple, it's something I've never learned before."
      ],
      "metadata": {
        "id": "mNXcphVece57"
      }
    },
    {
      "cell_type": "markdown",
      "source": [
        "## **7.**"
      ],
      "metadata": {
        "id": "c2W83AuBeKEG"
      }
    },
    {
      "cell_type": "markdown",
      "source": [
        "My perception of AI-driven assistance tools in the context of learning coding, statistics, and data science has definitely been evolved since I joined this course. This is because before joining this course, I has next to zero expectation that AI chatbots can be helpful for explaining stuff, since it's either giving an explanation that is too long, or it's complicated to understand (tbf I only knew ChatGPT when it was version 3 or 3.5 at that time). But now, I've understand that chatbots can evolve too, thus making chatbots like ChatGPT becomes more reliable (although there still some slight mistakes here and there)."
      ],
      "metadata": {
        "id": "sUle40CxeP-8"
      }
    },
    {
      "cell_type": "markdown",
      "source": [
        "## **8.**"
      ],
      "metadata": {
        "id": "Hs-pkHILhwLe"
      }
    },
    {
      "cell_type": "markdown",
      "source": [
        "3. Summary (ChatGPT's POV):\n",
        "\n",
        "   Skills for Data Science: We discussed the importance of skills like learning and adaptability, communication, coding, and statistics/data analysis in the data science industry. These skills are essential for interpreting data, collaborating with teams, and automating analyses.\n",
        "\n",
        "   Career in AI: You expressed interest in a career in AI, particularly in developing advanced AI systems and pattern recognition, rather than robotics. We explored the key skills needed for this path, including deep learning, reinforcement learning, data handling, mathematics, and effective communication.\n",
        "\n",
        "   Focus Areas: You clarified your focus on pattern recognition and deep reinforcement learning, leading to a discussion of specific skills and knowledge relevant to those areas, such as neural networks, RL concepts, data preprocessing, evaluation metrics, and staying updated with research trends.\n",
        "\n",
        "   Link: https://chatgpt.com/share/66ecf07e-a8f8-8012-a47e-a67a7632b600\n",
        "\n",
        "4. I might want to pursue in AI generation, especially the ones that are related to neural network, deep reinforcement learning, etc. And to do that, I might need to learn a lot of math, statistics, coding, and also neural network itself.\n",
        "\n",
        "5. Very helpful yesyes 👍. I might consult with the chatbot if I want to know some specifics later, as I need to reach for the ones outlined first."
      ],
      "metadata": {
        "id": "bPfB_wIZhyuF"
      }
    }
  ]
}