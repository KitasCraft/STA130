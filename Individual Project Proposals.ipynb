{
 "cells": [
  {
   "cell_type": "markdown",
   "id": "c87691c7",
   "metadata": {},
   "source": [
    "# Proposal 1"
   ]
  },
  {
   "cell_type": "markdown",
   "id": "ff9ffbb3",
   "metadata": {},
   "source": [
    "## Research Question"
   ]
  },
  {
   "cell_type": "markdown",
   "id": "b18ec83a",
   "metadata": {},
   "source": [
    "In this proposal, the author wants to know if more or less working hours per week correlates to the feeling of burnout while thinking about work."
   ]
  },
  {
   "cell_type": "markdown",
   "id": "8698ed99",
   "metadata": {},
   "source": [
    "## Variables and Exploration Plan"
   ]
  },
  {
   "cell_type": "markdown",
   "id": "ccadd41c",
   "metadata": {},
   "source": [
    "Two variables that the author will be using are `WELLNESS_burnout_direct` and `WORK_hours_per_week`. `WELLNESS_burnout_direct` describes whether the subject felt burnout thinking about work, which indicates a binary data. `WORK_hours_per_week` describes the number of hours per week the subject is working, which indicates a numerical data."
   ]
  },
  {
   "cell_type": "markdown",
   "id": "3d3edf3f",
   "metadata": {},
   "source": [
    "One of the visualization the author thinks might be useful is two bar charts, one for frequency of `Yes` in each working hours, and one for frequency of `No` in each working hours. Since `WORK_hours_per_week` are most likely to be discrete, the author decided that bar chart is the most useful visualization/plots for distribution of number of working hours. Other visualization the author thinks might be useful is a scatterplot with x-axis being the number of working hours, and the y-axis being the ratio of `Yes` and `No` for `WELLNESS_burnout_direct`. This scatterplot can visualize the general image on whether the two variables are correlated in a way."
   ]
  },
  {
   "cell_type": "markdown",
   "id": "0a729c5f",
   "metadata": {},
   "source": [
    "## Planned Analysis"
   ]
  },
  {
   "cell_type": "markdown",
   "id": "bd09e776",
   "metadata": {},
   "source": [
    "The method that the author will be using is p-value hypothesis testing, with $H_0 : xm_{yes} = xm_{no}$ and $\\alpha$-significance of $0.05$, where $xm_{yes}$ is the average hours if `WELLNESS_burnout_direct` is `Yes`, and $xm_{no}$ is the average hours if `WELLNESS_burnout_direct` is `No`. This can be done by assuming a population that adhere to null hypothesis ($H_0$) and doing repeated simulations by grabbing a sample with the same size as the original sample per simulation. After that, the author calculates the p-value by finding the ratio between number of simulations with sample that is more extreme than observed sample (in this case, $|xm_{yes} - xm_{no}|$ for each new sample is the same or larger than observed sample) and the total number of simulations. Then, the author compares whether p-value < $\\alpha$-significance to reject or fail to reject $H_0$."
   ]
  },
  {
   "cell_type": "markdown",
   "id": "0da89fdd",
   "metadata": {},
   "source": [
    "## Hypothesis and Expected Outcome"
   ]
  },
  {
   "cell_type": "markdown",
   "id": "bbe1069b",
   "metadata": {},
   "source": [
    "The author hypothesizes that the difference between $xm_{yes}$ and $xm_{no}$ is statistically significant ($H_1 : xm_{yes} \\neq xm_{no}$). If there is a statistically significant difference, then it is very likely that more or less working hours per week correlates to the feeling of burnout while thinking about work."
   ]
  },
  {
   "cell_type": "markdown",
   "id": "7c368c31",
   "metadata": {},
   "source": [
    "# Proposal 2"
   ]
  },
  {
   "cell_type": "markdown",
   "id": "5914bfa8",
   "metadata": {},
   "source": [
    "## Research Question\n",
    "\n",
    "In this proposal, the author wants to know if COVID-19 pandemic causes people to become more lonely.\n",
    "\n",
    "## Variables and Exploration Plan\n",
    "\n",
    "A single variable that the author will be using is `LONELY_change_pre_covid`, which is a categorical data with 5 categories that describes how lonely the subject was during the pandemic compared to pre COVID-19 era. \n",
    "\n",
    "One of the visualization the author thinks might be useful is a bar chart, since the number of category is discrete.\n",
    "\n",
    "## Planned Analysis\n",
    "\n",
    "The method that the author will be using is bootstrapping with $95\\%$ confidence interval. For this to work, the author might need to convert each category in `LONELY_change_pre_covid` to a value that correspond to how lonely the category describe it. After that, bootstrapping can be done by simulating a sampling with replacement from the observed sample of the same size, and then calculating the mean for each simulation. After getting all the means, the author will take a $95%$ confidence interval by taking the $2.5$ percentile and $97.5$ percentile as the lower and upper bound, respectively.\n",
    "\n",
    "## Hypothesis and Expected Outcome\n",
    "\n",
    "The author hypothesizes that the average loneliness value is greater than 0 ($H_0 : xm_{loneliness} \\leq 0$ and $H_1 : xm_{loneliness} > 0$). This hypothesis will determine if COVID-19 pandemic causes people to become more lonely."
   ]
  },
  {
   "cell_type": "markdown",
   "id": "c74cbefb",
   "metadata": {},
   "source": [
    "# Proposal 3"
   ]
  },
  {
   "cell_type": "markdown",
   "id": "ab3b023c",
   "metadata": {},
   "source": [
    "## Research Question\n",
    "\n",
    "In this proposal, the author wants to know if stressing about job is correlated with the housing cost each month.\n",
    "\n",
    "## Variables and Exploration Plan\n",
    "\n",
    "Two variables the author will use are `GEO_housing_cost`, which is a numerical variable representing the monthly housing cost, and `WORK_feel_stress`, which is a categorical variable representing the frequency of stress related to one’s job.\n",
    "\n",
    "One of the visualization the author thinks might be useful is a box plot to visualize the distribution of housing costs across different levels of job stress. This plot will help identify if higher stress levels correspond with higher housing costs. A box plot is appropriate for examining differences in the spread and central tendency of housing costs across categorical levels of job stress.\n",
    "\n",
    "## Planned Analysis\n",
    "\n",
    "The method that the author will be using is bootstrapping with $95%$ confidence interval. For this to work, the author might need to convert each category in `LONELY_change_pre_covid` to a value that correspond to how lonely the category describe it. After that, bootstrapping can be done by simulating a sampling with replacement from the observed sample of the same size, and then calculating the mean for each simulation. After getting all the means, the author will take a $95%$ confidence interval by taking the $2.5$ percentile and $97.5$ percentile as the lower and upper bound, respectively.\n",
    "\n",
    "## Hypothesis and Expected Outcome\n",
    "\n",
    "The author hypothesizes that the average loneliness value is greater than 0 ($H_0 : xm_{loneliness} \\leq 0$ and $H_1 : xm_{loneliness} > 0$). This hypothesis will determine if COVID-19 pandemic causes people to become more lonely."
   ]
  }
 ],
 "metadata": {
  "kernelspec": {
   "display_name": "Python 3 (ipykernel)",
   "language": "python",
   "name": "python3"
  },
  "language_info": {
   "codemirror_mode": {
    "name": "ipython",
    "version": 3
   },
   "file_extension": ".py",
   "mimetype": "text/x-python",
   "name": "python",
   "nbconvert_exporter": "python",
   "pygments_lexer": "ipython3",
   "version": "3.11.6"
  }
 },
 "nbformat": 4,
 "nbformat_minor": 5
}
